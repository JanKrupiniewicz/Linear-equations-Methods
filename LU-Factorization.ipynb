{
 "cells": [
  {
   "cell_type": "code",
   "execution_count": 1,
   "id": "a2e2527f",
   "metadata": {},
   "outputs": [],
   "source": [
    "import copy\n",
    "from cmath import sin"
   ]
  },
  {
   "cell_type": "code",
   "execution_count": 2,
   "id": "5fa1d0a2",
   "metadata": {},
   "outputs": [],
   "source": [
    "# Initial values\n",
    "index_number = 193320\n",
    "c = 1\n",
    "d = 2\n",
    "e = 3\n",
    "f = 3\n",
    "N = 9 * c * d\n",
    "a1 = 3\n",
    "a2 = -1\n",
    "a3 = -1"
   ]
  },
  {
   "cell_type": "code",
   "execution_count": 3,
   "id": "95cb3a7f",
   "metadata": {},
   "outputs": [],
   "source": [
    "# Creating matrix A and vector B\n",
    "A = [[0 for _ in range(N)] for _ in range(N)]\n",
    "b = [sin(i * (f + 1)) for i in range(N)]\n",
    "\n",
    "for i in range(N):\n",
    "    for j in range(N):\n",
    "        if i == j:\n",
    "            A[i][j] = a1\n",
    "        elif i == j + 1 or i == j - 1:\n",
    "            A[i][j] = a2\n",
    "        elif i == j + 2 or i == j - 2:\n",
    "            A[i][j] = a3"
   ]
  },
  {
   "cell_type": "code",
   "execution_count": 4,
   "id": "b1c89c1f",
   "metadata": {},
   "outputs": [
    {
     "data": {
      "text/plain": [
       "[[3, -1, -1, 0, 0, 0, 0, 0, 0, 0, 0, 0, 0, 0, 0, 0, 0, 0],\n",
       " [-1, 3, -1, -1, 0, 0, 0, 0, 0, 0, 0, 0, 0, 0, 0, 0, 0, 0],\n",
       " [-1, -1, 3, -1, -1, 0, 0, 0, 0, 0, 0, 0, 0, 0, 0, 0, 0, 0],\n",
       " [0, -1, -1, 3, -1, -1, 0, 0, 0, 0, 0, 0, 0, 0, 0, 0, 0, 0],\n",
       " [0, 0, -1, -1, 3, -1, -1, 0, 0, 0, 0, 0, 0, 0, 0, 0, 0, 0],\n",
       " [0, 0, 0, -1, -1, 3, -1, -1, 0, 0, 0, 0, 0, 0, 0, 0, 0, 0],\n",
       " [0, 0, 0, 0, -1, -1, 3, -1, -1, 0, 0, 0, 0, 0, 0, 0, 0, 0],\n",
       " [0, 0, 0, 0, 0, -1, -1, 3, -1, -1, 0, 0, 0, 0, 0, 0, 0, 0],\n",
       " [0, 0, 0, 0, 0, 0, -1, -1, 3, -1, -1, 0, 0, 0, 0, 0, 0, 0],\n",
       " [0, 0, 0, 0, 0, 0, 0, -1, -1, 3, -1, -1, 0, 0, 0, 0, 0, 0],\n",
       " [0, 0, 0, 0, 0, 0, 0, 0, -1, -1, 3, -1, -1, 0, 0, 0, 0, 0],\n",
       " [0, 0, 0, 0, 0, 0, 0, 0, 0, -1, -1, 3, -1, -1, 0, 0, 0, 0],\n",
       " [0, 0, 0, 0, 0, 0, 0, 0, 0, 0, -1, -1, 3, -1, -1, 0, 0, 0],\n",
       " [0, 0, 0, 0, 0, 0, 0, 0, 0, 0, 0, -1, -1, 3, -1, -1, 0, 0],\n",
       " [0, 0, 0, 0, 0, 0, 0, 0, 0, 0, 0, 0, -1, -1, 3, -1, -1, 0],\n",
       " [0, 0, 0, 0, 0, 0, 0, 0, 0, 0, 0, 0, 0, -1, -1, 3, -1, -1],\n",
       " [0, 0, 0, 0, 0, 0, 0, 0, 0, 0, 0, 0, 0, 0, -1, -1, 3, -1],\n",
       " [0, 0, 0, 0, 0, 0, 0, 0, 0, 0, 0, 0, 0, 0, 0, -1, -1, 3]]"
      ]
     },
     "execution_count": 4,
     "metadata": {},
     "output_type": "execute_result"
    }
   ],
   "source": [
    "A"
   ]
  },
  {
   "cell_type": "code",
   "execution_count": 5,
   "id": "9de31078",
   "metadata": {},
   "outputs": [
    {
     "data": {
      "text/plain": [
       "[0j,\n",
       " (-0.7568024953079282-0j),\n",
       " (0.9893582466233818-0j),\n",
       " (-0.5365729180004349+0j),\n",
       " (-0.2879033166650653-0j),\n",
       " (0.9129452507276277+0j),\n",
       " (-0.9055783620066238+0j),\n",
       " (0.27090578830786904-0j),\n",
       " (0.5514266812416906+0j),\n",
       " (-0.9917788534431158-0j),\n",
       " (0.7451131604793488-0j),\n",
       " (0.017701925105413577+0j),\n",
       " (-0.7682546613236668-0j),\n",
       " (0.9866275920404853-0j),\n",
       " (-0.5215510020869119+0j),\n",
       " (-0.3048106211022167-0j),\n",
       " (0.9200260381967907+0j),\n",
       " (-0.8979276806892913+0j)]"
      ]
     },
     "execution_count": 5,
     "metadata": {},
     "output_type": "execute_result"
    }
   ],
   "source": [
    "b"
   ]
  },
  {
   "cell_type": "code",
   "execution_count": 6,
   "id": "4acec026",
   "metadata": {},
   "outputs": [],
   "source": [
    "# LU factorization\n",
    "U = copy.deepcopy(A)\n",
    "L = [[0 for _ in range(N)] for _ in range(N)]\n",
    "\n",
    "for i in range(N):\n",
    "    for j in range(i):\n",
    "        L[i][j] = U[i][j] / U[j][j]\n",
    "        for k in range(j, N):\n",
    "            U[i][k] -= L[i][j] * U[j][k]"
   ]
  },
  {
   "cell_type": "code",
   "execution_count": 7,
   "id": "c407bb8b",
   "metadata": {},
   "outputs": [],
   "source": [
    "# Solve Ly = b\n",
    "y = [0 for _ in range(N)]\n",
    "for i in range(N):\n",
    "    y[i] = b[i]\n",
    "    for j in range(i):\n",
    "        y[i] -= L[i][j] * y[j]"
   ]
  },
  {
   "cell_type": "code",
   "execution_count": 8,
   "id": "e9778ea4",
   "metadata": {},
   "outputs": [],
   "source": [
    "# Solve Ux = y\n",
    "x = [0 for _ in range(N)]\n",
    "for i in range(N - 1, -1, -1):\n",
    "    x[i] = y[i]\n",
    "    for j in range(i + 1, N):\n",
    "        x[i] -= U[i][j] * x[j]\n",
    "    x[i] /= U[i][i]"
   ]
  },
  {
   "cell_type": "code",
   "execution_count": 9,
   "id": "c9681613",
   "metadata": {},
   "outputs": [],
   "source": [
    "# Calculate residual norm\n",
    "residual = [0 for _ in range(N)]\n",
    "err_norm = float('-inf')\n",
    "\n",
    "for i in range(N):\n",
    "    sum_Ax = 0\n",
    "    for j in range(N):\n",
    "        sum_Ax += A[i][j] * x[j]\n",
    "    residual[i] = sum_Ax - b[i]\n",
    "    if abs(residual[i]) > err_norm:\n",
    "        err_norm = abs(residual[i])"
   ]
  },
  {
   "cell_type": "code",
   "execution_count": 10,
   "id": "838f3696",
   "metadata": {},
   "outputs": [
    {
     "name": "stdout",
     "output_type": "stream",
     "text": [
      "Final LU Residuum:  9.992007221626409e-16\n"
     ]
    }
   ],
   "source": [
    "print(\"Final LU Residuum: \", err_norm)"
   ]
  },
  {
   "cell_type": "code",
   "execution_count": 11,
   "id": "a740ea78",
   "metadata": {},
   "outputs": [
    {
     "data": {
      "text/plain": [
       "[(-0.19838160254542825+0j),\n",
       " (-0.48687649637689573+0j),\n",
       " (-0.108268311259389+0j),\n",
       " (-0.39717708001794166+0j),\n",
       " (-0.23172800146128322+0j),\n",
       " (0.17191448704417792-0j),\n",
       " (-0.07374978348563165+0j),\n",
       " (0.30545307536976257+0j),\n",
       " (0.43868945059707165+0j),\n",
       " (0.10859928364580061+0j),\n",
       " (0.424339095019593+0j),\n",
       " (0.1490950833940903+0j),\n",
       " (-0.16847969305753246-0j),\n",
       " (0.06512463946899624+0j),\n",
       " (-0.3757432357316109+0j),\n",
       " (-0.39612582823844356+0j),\n",
       " (-0.10619782328094077+0j),\n",
       " (-0.4667504440695585+0j)]"
      ]
     },
     "execution_count": 11,
     "metadata": {},
     "output_type": "execute_result"
    }
   ],
   "source": [
    "x"
   ]
  }
 ],
 "metadata": {
  "kernelspec": {
   "display_name": "Python 3 (ipykernel)",
   "language": "python",
   "name": "python3"
  },
  "language_info": {
   "codemirror_mode": {
    "name": "ipython",
    "version": 3
   },
   "file_extension": ".py",
   "mimetype": "text/x-python",
   "name": "python",
   "nbconvert_exporter": "python",
   "pygments_lexer": "ipython3",
   "version": "3.11.5"
  }
 },
 "nbformat": 4,
 "nbformat_minor": 5
}
